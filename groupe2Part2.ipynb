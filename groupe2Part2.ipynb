{
  "nbformat": 4,
  "nbformat_minor": 0,
  "metadata": {
    "colab": {
      "name": "groupe2Part2.ipynb",
      "provenance": [],
      "collapsed_sections": []
    },
    "kernelspec": {
      "name": "python3",
      "display_name": "Python 3"
    },
    "language_info": {
      "name": "python"
    },
    "accelerator": "GPU"
  },
  "cells": [
    {
      "cell_type": "markdown",
      "metadata": {
        "id": "UkWm6S_JLQP_"
      },
      "source": [
        "## DATA PRE-PROCESSING"
      ]
    },
    {
      "cell_type": "markdown",
      "metadata": {
        "id": "gpPQ7RK4LRrf"
      },
      "source": [
        "**Here we are importing the necessary libraries**"
      ]
    },
    {
      "cell_type": "code",
      "metadata": {
        "id": "ESTVTaqZJdhq"
      },
      "source": [
        "import pandas as pd\n",
        "import numpy as np\n",
        "from sklearn.preprocessing import LabelEncoder\n",
        "from sklearn.neighbors import KNeighborsClassifier\n",
        "import matplotlib.pyplot as plt\n",
        "import seaborn as sns\n",
        "from sklearn.metrics import auc, classification_report, roc_auc_score\n",
        "from sklearn.model_selection import train_test_split\n",
        "from lightgbm import LGBMClassifier\n",
        "from sklearn.ensemble import RandomForestClassifier\n",
        "pd.set_option('max_colwidth', 500)\n",
        "%matplotlib inline\n",
        "import warnings\n",
        "warnings.filterwarnings('ignore')"
      ],
      "execution_count": null,
      "outputs": []
    },
    {
      "cell_type": "markdown",
      "metadata": {
        "id": "IUFjTS1yLufl"
      },
      "source": [
        "**Before we start everything,we need a data.What we are basically doing here is importing our data**"
      ]
    },
    {
      "cell_type": "code",
      "metadata": {
        "colab": {
          "base_uri": "https://localhost:8080/"
        },
        "id": "AkNSH6b-KRjL",
        "outputId": "5a6abec0-2bc0-490d-f817-55d4170cfacf"
      },
      "source": [
        "from google.colab import drive\n",
        "drive.mount('/content/drive')"
      ],
      "execution_count": null,
      "outputs": [
        {
          "output_type": "stream",
          "text": [
            "Drive already mounted at /content/drive; to attempt to forcibly remount, call drive.mount(\"/content/drive\", force_remount=True).\n"
          ],
          "name": "stdout"
        }
      ]
    },
    {
      "cell_type": "code",
      "metadata": {
        "id": "4ROCPbRFSSv3"
      },
      "source": [
        "url=('/content/drive/MyDrive/Classroom/drugsComTrain_raw.tsv')\n",
        "data=pd.read_csv(url,sep='\\t')"
      ],
      "execution_count": null,
      "outputs": []
    },
    {
      "cell_type": "markdown",
      "metadata": {
        "id": "Zsru98BVMGN0"
      },
      "source": [
        "**The data is about drugs ratings.Given a drug based on a patient's health condition, the patient writes a comment and rate the drug in correspondence to its effect or its ability to cure a particular health condition. Now that the data has been imported we explore the data to understand the data for examples we will check for missing values and many more**"
      ]
    },
    {
      "cell_type": "markdown",
      "metadata": {
        "id": "gJEWViA4ONsr"
      },
      "source": [
        "## Data Exploratory"
      ]
    },
    {
      "cell_type": "markdown",
      "metadata": {
        "id": "99tGY0G_OVoa"
      },
      "source": [
        "**\"data.info()\" gives us more information of the data.Looking at the information, we can tell that the data has seven features which are unnamed :0,drugName,condition,review,rating,date and the usefulcount.There are 161297 observations.**\n",
        "\n",
        "Description of each feature\n",
        "\n",
        "1. drugName (categorical): name of drug\n",
        "2. condition (categorical): name of condition\n",
        "3. review (text): patient review\n",
        "4. rating (numerical): 10 star patient rating\n",
        "5. date (date): date of review entry\n",
        "6. usefulCount (numerical): number of users who found review useful."
      ]
    },
    {
      "cell_type": "markdown",
      "metadata": {
        "id": "ZEW8SuBNm8cy"
      },
      "source": [
        "Here we check the  number unique characters in each feature."
      ]
    },
    {
      "cell_type": "markdown",
      "metadata": {
        "id": "dka3uKwfRkFk"
      },
      "source": [
        "## Checking for missing data\n",
        "\n",
        "We are checking for any missing data because having  missing data reduce the prediction power of the data  and also the ability to draw a better conclusion from the data."
      ]
    },
    {
      "cell_type": "markdown",
      "metadata": {
        "id": "_AJr8KceSk-e"
      },
      "source": [
        "From the barplots above,We can observe that only the feature condition has a missing data and its one percentage.The next decision is to drop the missing data.This will reduce our data sets. We are dropping the missing data because  dropping  one percentage of the data does not affect the information in the data since we have 99 percentage data not missing. Below is the code for dropping the missing values."
      ]
    },
    {
      "cell_type": "markdown",
      "metadata": {
        "id": "1n5H5FW23Chg"
      },
      "source": [
        "**Extracting vocabulary**"
      ]
    },
    {
      "cell_type": "markdown",
      "metadata": {
        "id": "PfudwaN2FHLT"
      },
      "source": [
        "## splitting the datasets##"
      ]
    },
    {
      "cell_type": "code",
      "metadata": {
        "colab": {
          "base_uri": "https://localhost:8080/"
        },
        "id": "pp1gDBPNzOkQ",
        "outputId": "cbf6578c-e8dd-4ee8-f912-cc103c6864fe"
      },
      "source": [
        ""
      ],
      "execution_count": null,
      "outputs": [
        {
          "output_type": "execute_result",
          "data": {
            "text/plain": [
              "0.0    160398\n",
              "Name: rating, dtype: int64"
            ]
          },
          "metadata": {
            "tags": []
          },
          "execution_count": 96
        }
      ]
    },
    {
      "cell_type": "code",
      "metadata": {
        "colab": {
          "base_uri": "https://localhost:8080/",
          "height": 439
        },
        "id": "cmK0xR4KFa5I",
        "outputId": "a07fc686-aeca-4307-d731-1cdca967b365"
      },
      "source": [
        "nancy=pd.read_csv('lastdata.csv')\n",
        "nancy"
      ],
      "execution_count": null,
      "outputs": [
        {
          "output_type": "execute_result",
          "data": {
            "text/html": [
              "<div>\n",
              "<style scoped>\n",
              "    .dataframe tbody tr th:only-of-type {\n",
              "        vertical-align: middle;\n",
              "    }\n",
              "\n",
              "    .dataframe tbody tr th {\n",
              "        vertical-align: top;\n",
              "    }\n",
              "\n",
              "    .dataframe thead th {\n",
              "        text-align: right;\n",
              "    }\n",
              "</style>\n",
              "<table border=\"1\" class=\"dataframe\">\n",
              "  <thead>\n",
              "    <tr style=\"text-align: right;\">\n",
              "      <th></th>\n",
              "      <th>drugName_0</th>\n",
              "      <th>drugName_1</th>\n",
              "      <th>drugName_2</th>\n",
              "      <th>drugName_3</th>\n",
              "      <th>drugName_4</th>\n",
              "      <th>drugName_5</th>\n",
              "      <th>drugName_6</th>\n",
              "      <th>drugName_7</th>\n",
              "      <th>drugName_8</th>\n",
              "      <th>drugName_9</th>\n",
              "      <th>drugName_10</th>\n",
              "      <th>drugName_11</th>\n",
              "      <th>drugName_12</th>\n",
              "      <th>condition_0</th>\n",
              "      <th>condition_1</th>\n",
              "      <th>condition_2</th>\n",
              "      <th>condition_3</th>\n",
              "      <th>condition_4</th>\n",
              "      <th>condition_5</th>\n",
              "      <th>condition_6</th>\n",
              "      <th>condition_7</th>\n",
              "      <th>condition_8</th>\n",
              "      <th>condition_9</th>\n",
              "      <th>condition_10</th>\n",
              "      <th>rating</th>\n",
              "      <th>usefulCount</th>\n",
              "      <th>mark</th>\n",
              "    </tr>\n",
              "  </thead>\n",
              "  <tbody>\n",
              "    <tr>\n",
              "      <th>0</th>\n",
              "      <td>0</td>\n",
              "      <td>0</td>\n",
              "      <td>0</td>\n",
              "      <td>0</td>\n",
              "      <td>0</td>\n",
              "      <td>0</td>\n",
              "      <td>0</td>\n",
              "      <td>0</td>\n",
              "      <td>0</td>\n",
              "      <td>0</td>\n",
              "      <td>0</td>\n",
              "      <td>0</td>\n",
              "      <td>1</td>\n",
              "      <td>0</td>\n",
              "      <td>0</td>\n",
              "      <td>0</td>\n",
              "      <td>0</td>\n",
              "      <td>0</td>\n",
              "      <td>0</td>\n",
              "      <td>0</td>\n",
              "      <td>0</td>\n",
              "      <td>0</td>\n",
              "      <td>0</td>\n",
              "      <td>1</td>\n",
              "      <td>0.0</td>\n",
              "      <td>-0.030106</td>\n",
              "      <td>-0.548140</td>\n",
              "    </tr>\n",
              "    <tr>\n",
              "      <th>1</th>\n",
              "      <td>0</td>\n",
              "      <td>0</td>\n",
              "      <td>0</td>\n",
              "      <td>0</td>\n",
              "      <td>0</td>\n",
              "      <td>0</td>\n",
              "      <td>0</td>\n",
              "      <td>0</td>\n",
              "      <td>0</td>\n",
              "      <td>0</td>\n",
              "      <td>0</td>\n",
              "      <td>1</td>\n",
              "      <td>0</td>\n",
              "      <td>0</td>\n",
              "      <td>0</td>\n",
              "      <td>0</td>\n",
              "      <td>0</td>\n",
              "      <td>0</td>\n",
              "      <td>0</td>\n",
              "      <td>0</td>\n",
              "      <td>0</td>\n",
              "      <td>0</td>\n",
              "      <td>1</td>\n",
              "      <td>0</td>\n",
              "      <td>0.0</td>\n",
              "      <td>4.495665</td>\n",
              "      <td>2.922455</td>\n",
              "    </tr>\n",
              "    <tr>\n",
              "      <th>2</th>\n",
              "      <td>0</td>\n",
              "      <td>0</td>\n",
              "      <td>0</td>\n",
              "      <td>0</td>\n",
              "      <td>0</td>\n",
              "      <td>0</td>\n",
              "      <td>0</td>\n",
              "      <td>0</td>\n",
              "      <td>0</td>\n",
              "      <td>0</td>\n",
              "      <td>0</td>\n",
              "      <td>1</td>\n",
              "      <td>1</td>\n",
              "      <td>0</td>\n",
              "      <td>0</td>\n",
              "      <td>0</td>\n",
              "      <td>0</td>\n",
              "      <td>0</td>\n",
              "      <td>0</td>\n",
              "      <td>0</td>\n",
              "      <td>0</td>\n",
              "      <td>0</td>\n",
              "      <td>1</td>\n",
              "      <td>1</td>\n",
              "      <td>0.0</td>\n",
              "      <td>-0.304396</td>\n",
              "      <td>1.187157</td>\n",
              "    </tr>\n",
              "    <tr>\n",
              "      <th>3</th>\n",
              "      <td>0</td>\n",
              "      <td>0</td>\n",
              "      <td>0</td>\n",
              "      <td>0</td>\n",
              "      <td>0</td>\n",
              "      <td>0</td>\n",
              "      <td>0</td>\n",
              "      <td>0</td>\n",
              "      <td>0</td>\n",
              "      <td>0</td>\n",
              "      <td>1</td>\n",
              "      <td>0</td>\n",
              "      <td>0</td>\n",
              "      <td>0</td>\n",
              "      <td>0</td>\n",
              "      <td>0</td>\n",
              "      <td>0</td>\n",
              "      <td>0</td>\n",
              "      <td>0</td>\n",
              "      <td>0</td>\n",
              "      <td>0</td>\n",
              "      <td>0</td>\n",
              "      <td>1</td>\n",
              "      <td>1</td>\n",
              "      <td>0.0</td>\n",
              "      <td>-0.496398</td>\n",
              "      <td>-0.548140</td>\n",
              "    </tr>\n",
              "    <tr>\n",
              "      <th>4</th>\n",
              "      <td>0</td>\n",
              "      <td>0</td>\n",
              "      <td>0</td>\n",
              "      <td>0</td>\n",
              "      <td>0</td>\n",
              "      <td>0</td>\n",
              "      <td>0</td>\n",
              "      <td>0</td>\n",
              "      <td>0</td>\n",
              "      <td>0</td>\n",
              "      <td>1</td>\n",
              "      <td>0</td>\n",
              "      <td>1</td>\n",
              "      <td>0</td>\n",
              "      <td>0</td>\n",
              "      <td>0</td>\n",
              "      <td>0</td>\n",
              "      <td>0</td>\n",
              "      <td>0</td>\n",
              "      <td>0</td>\n",
              "      <td>0</td>\n",
              "      <td>1</td>\n",
              "      <td>0</td>\n",
              "      <td>0</td>\n",
              "      <td>0.0</td>\n",
              "      <td>0.244183</td>\n",
              "      <td>1.187157</td>\n",
              "    </tr>\n",
              "    <tr>\n",
              "      <th>...</th>\n",
              "      <td>...</td>\n",
              "      <td>...</td>\n",
              "      <td>...</td>\n",
              "      <td>...</td>\n",
              "      <td>...</td>\n",
              "      <td>...</td>\n",
              "      <td>...</td>\n",
              "      <td>...</td>\n",
              "      <td>...</td>\n",
              "      <td>...</td>\n",
              "      <td>...</td>\n",
              "      <td>...</td>\n",
              "      <td>...</td>\n",
              "      <td>...</td>\n",
              "      <td>...</td>\n",
              "      <td>...</td>\n",
              "      <td>...</td>\n",
              "      <td>...</td>\n",
              "      <td>...</td>\n",
              "      <td>...</td>\n",
              "      <td>...</td>\n",
              "      <td>...</td>\n",
              "      <td>...</td>\n",
              "      <td>...</td>\n",
              "      <td>...</td>\n",
              "      <td>...</td>\n",
              "      <td>...</td>\n",
              "    </tr>\n",
              "    <tr>\n",
              "      <th>160393</th>\n",
              "      <td>0</td>\n",
              "      <td>0</td>\n",
              "      <td>0</td>\n",
              "      <td>1</td>\n",
              "      <td>1</td>\n",
              "      <td>0</td>\n",
              "      <td>0</td>\n",
              "      <td>0</td>\n",
              "      <td>0</td>\n",
              "      <td>1</td>\n",
              "      <td>1</td>\n",
              "      <td>1</td>\n",
              "      <td>0</td>\n",
              "      <td>0</td>\n",
              "      <td>0</td>\n",
              "      <td>0</td>\n",
              "      <td>1</td>\n",
              "      <td>1</td>\n",
              "      <td>1</td>\n",
              "      <td>1</td>\n",
              "      <td>1</td>\n",
              "      <td>1</td>\n",
              "      <td>1</td>\n",
              "      <td>1</td>\n",
              "      <td>10.0</td>\n",
              "      <td>2.657927</td>\n",
              "      <td>-0.548140</td>\n",
              "    </tr>\n",
              "    <tr>\n",
              "      <th>160394</th>\n",
              "      <td>0</td>\n",
              "      <td>0</td>\n",
              "      <td>0</td>\n",
              "      <td>0</td>\n",
              "      <td>1</td>\n",
              "      <td>0</td>\n",
              "      <td>0</td>\n",
              "      <td>0</td>\n",
              "      <td>0</td>\n",
              "      <td>1</td>\n",
              "      <td>1</td>\n",
              "      <td>0</td>\n",
              "      <td>0</td>\n",
              "      <td>0</td>\n",
              "      <td>0</td>\n",
              "      <td>0</td>\n",
              "      <td>1</td>\n",
              "      <td>0</td>\n",
              "      <td>0</td>\n",
              "      <td>0</td>\n",
              "      <td>0</td>\n",
              "      <td>1</td>\n",
              "      <td>1</td>\n",
              "      <td>0</td>\n",
              "      <td>1.0</td>\n",
              "      <td>0.161896</td>\n",
              "      <td>1.187157</td>\n",
              "    </tr>\n",
              "    <tr>\n",
              "      <th>160395</th>\n",
              "      <td>0</td>\n",
              "      <td>0</td>\n",
              "      <td>0</td>\n",
              "      <td>1</td>\n",
              "      <td>1</td>\n",
              "      <td>0</td>\n",
              "      <td>0</td>\n",
              "      <td>1</td>\n",
              "      <td>1</td>\n",
              "      <td>1</td>\n",
              "      <td>0</td>\n",
              "      <td>1</td>\n",
              "      <td>0</td>\n",
              "      <td>0</td>\n",
              "      <td>0</td>\n",
              "      <td>0</td>\n",
              "      <td>0</td>\n",
              "      <td>0</td>\n",
              "      <td>0</td>\n",
              "      <td>1</td>\n",
              "      <td>0</td>\n",
              "      <td>0</td>\n",
              "      <td>1</td>\n",
              "      <td>1</td>\n",
              "      <td>2.0</td>\n",
              "      <td>0.189325</td>\n",
              "      <td>-0.548140</td>\n",
              "    </tr>\n",
              "    <tr>\n",
              "      <th>160396</th>\n",
              "      <td>0</td>\n",
              "      <td>0</td>\n",
              "      <td>0</td>\n",
              "      <td>0</td>\n",
              "      <td>1</td>\n",
              "      <td>0</td>\n",
              "      <td>1</td>\n",
              "      <td>0</td>\n",
              "      <td>1</td>\n",
              "      <td>0</td>\n",
              "      <td>1</td>\n",
              "      <td>0</td>\n",
              "      <td>1</td>\n",
              "      <td>0</td>\n",
              "      <td>0</td>\n",
              "      <td>0</td>\n",
              "      <td>0</td>\n",
              "      <td>0</td>\n",
              "      <td>1</td>\n",
              "      <td>0</td>\n",
              "      <td>1</td>\n",
              "      <td>1</td>\n",
              "      <td>1</td>\n",
              "      <td>1</td>\n",
              "      <td>10.0</td>\n",
              "      <td>1.396197</td>\n",
              "      <td>-0.548140</td>\n",
              "    </tr>\n",
              "    <tr>\n",
              "      <th>160397</th>\n",
              "      <td>0</td>\n",
              "      <td>0</td>\n",
              "      <td>0</td>\n",
              "      <td>0</td>\n",
              "      <td>0</td>\n",
              "      <td>1</td>\n",
              "      <td>0</td>\n",
              "      <td>1</td>\n",
              "      <td>0</td>\n",
              "      <td>1</td>\n",
              "      <td>0</td>\n",
              "      <td>1</td>\n",
              "      <td>0</td>\n",
              "      <td>0</td>\n",
              "      <td>0</td>\n",
              "      <td>0</td>\n",
              "      <td>0</td>\n",
              "      <td>1</td>\n",
              "      <td>0</td>\n",
              "      <td>0</td>\n",
              "      <td>1</td>\n",
              "      <td>0</td>\n",
              "      <td>1</td>\n",
              "      <td>1</td>\n",
              "      <td>9.0</td>\n",
              "      <td>2.411067</td>\n",
              "      <td>-0.548140</td>\n",
              "    </tr>\n",
              "  </tbody>\n",
              "</table>\n",
              "<p>160398 rows × 27 columns</p>\n",
              "</div>"
            ],
            "text/plain": [
              "        drugName_0  drugName_1  drugName_2  ...  rating  usefulCount      mark\n",
              "0                0           0           0  ...     0.0    -0.030106 -0.548140\n",
              "1                0           0           0  ...     0.0     4.495665  2.922455\n",
              "2                0           0           0  ...     0.0    -0.304396  1.187157\n",
              "3                0           0           0  ...     0.0    -0.496398 -0.548140\n",
              "4                0           0           0  ...     0.0     0.244183  1.187157\n",
              "...            ...         ...         ...  ...     ...          ...       ...\n",
              "160393           0           0           0  ...    10.0     2.657927 -0.548140\n",
              "160394           0           0           0  ...     1.0     0.161896  1.187157\n",
              "160395           0           0           0  ...     2.0     0.189325 -0.548140\n",
              "160396           0           0           0  ...    10.0     1.396197 -0.548140\n",
              "160397           0           0           0  ...     9.0     2.411067 -0.548140\n",
              "\n",
              "[160398 rows x 27 columns]"
            ]
          },
          "metadata": {
            "tags": []
          },
          "execution_count": 97
        }
      ]
    },
    {
      "cell_type": "code",
      "metadata": {
        "id": "oxaLuLnSGIqN"
      },
      "source": [
        "for i in range(nancy.shape[0]):\n",
        "  if nancy['rating'][i]<5:\n",
        "    nancy['rating'][i]=int(0)\n",
        "  else:\n",
        "    if nancy['rating'][i]<8:\n",
        "      nancy['rating'][i]=int(1)\n",
        "    else:\n",
        "      nancy['rating'][i]=int(2)"
      ],
      "execution_count": null,
      "outputs": []
    },
    {
      "cell_type": "code",
      "metadata": {
        "colab": {
          "base_uri": "https://localhost:8080/"
        },
        "id": "miij8XdWzw7C",
        "outputId": "48572353-7f12-47ff-a144-c37230c81db8"
      },
      "source": [
        "nancy['rating'].astype('category')"
      ],
      "execution_count": null,
      "outputs": [
        {
          "output_type": "execute_result",
          "data": {
            "text/plain": [
              "0         0.0\n",
              "1         0.0\n",
              "2         0.0\n",
              "3         0.0\n",
              "4         0.0\n",
              "         ... \n",
              "160393    2.0\n",
              "160394    0.0\n",
              "160395    0.0\n",
              "160396    2.0\n",
              "160397    2.0\n",
              "Name: rating, Length: 160398, dtype: category\n",
              "Categories (3, float64): [0.0, 1.0, 2.0]"
            ]
          },
          "metadata": {
            "tags": []
          },
          "execution_count": 100
        }
      ]
    },
    {
      "cell_type": "code",
      "metadata": {
        "colab": {
          "base_uri": "https://localhost:8080/"
        },
        "id": "UCS5jPnC1tiv",
        "outputId": "58fdde73-b564-4e55-be06-4a9db2d0b755"
      },
      "source": [
        "# creating instance of labelencoder\n",
        "labelencoder = LabelEncoder()\n",
        "# Assigning numerical values and storing in another column\n",
        "nancy['rating'] = labelencoder.fit_transform(nancy['rating'])\n",
        "nancy['rating']"
      ],
      "execution_count": null,
      "outputs": [
        {
          "output_type": "execute_result",
          "data": {
            "text/plain": [
              "0         0\n",
              "1         0\n",
              "2         0\n",
              "3         0\n",
              "4         0\n",
              "         ..\n",
              "160393    2\n",
              "160394    0\n",
              "160395    0\n",
              "160396    2\n",
              "160397    2\n",
              "Name: rating, Length: 160398, dtype: int64"
            ]
          },
          "metadata": {
            "tags": []
          },
          "execution_count": 105
        }
      ]
    },
    {
      "cell_type": "code",
      "metadata": {
        "colab": {
          "base_uri": "https://localhost:8080/"
        },
        "id": "s0qcFCJE1KLg",
        "outputId": "d30a5d98-f8ae-4058-8cff-9c65f40bd443"
      },
      "source": [
        "nancy['rating'].value_counts()"
      ],
      "execution_count": null,
      "outputs": [
        {
          "output_type": "execute_result",
          "data": {
            "text/plain": [
              "2.0    96895\n",
              "0.0    39851\n",
              "1.0    23652\n",
              "Name: rating, dtype: int64"
            ]
          },
          "metadata": {
            "tags": []
          },
          "execution_count": 101
        }
      ]
    },
    {
      "cell_type": "code",
      "metadata": {
        "colab": {
          "base_uri": "https://localhost:8080/"
        },
        "id": "eLW19ZEC2K7i",
        "outputId": "8b521e3a-f9d6-4222-e000-7a8bc93af986"
      },
      "source": [
        "nancy['rating'].value_counts()"
      ],
      "execution_count": null,
      "outputs": [
        {
          "output_type": "execute_result",
          "data": {
            "text/plain": [
              "2    96895\n",
              "0    39851\n",
              "1    23652\n",
              "Name: rating, dtype: int64"
            ]
          },
          "metadata": {
            "tags": []
          },
          "execution_count": 108
        }
      ]
    },
    {
      "cell_type": "code",
      "metadata": {
        "id": "hpacEoKrG2MD"
      },
      "source": [
        "lastversion=nancy.to_csv('datagroup2.csv')"
      ],
      "execution_count": null,
      "outputs": []
    },
    {
      "cell_type": "code",
      "metadata": {
        "colab": {
          "base_uri": "https://localhost:8080/",
          "height": 224
        },
        "id": "JjazVPuvHNpW",
        "outputId": "ab4a2371-dc06-4206-ffbb-0ed30d39b281"
      },
      "source": [
        "nancy.head()"
      ],
      "execution_count": null,
      "outputs": [
        {
          "output_type": "execute_result",
          "data": {
            "text/html": [
              "<div>\n",
              "<style scoped>\n",
              "    .dataframe tbody tr th:only-of-type {\n",
              "        vertical-align: middle;\n",
              "    }\n",
              "\n",
              "    .dataframe tbody tr th {\n",
              "        vertical-align: top;\n",
              "    }\n",
              "\n",
              "    .dataframe thead th {\n",
              "        text-align: right;\n",
              "    }\n",
              "</style>\n",
              "<table border=\"1\" class=\"dataframe\">\n",
              "  <thead>\n",
              "    <tr style=\"text-align: right;\">\n",
              "      <th></th>\n",
              "      <th>drugName_0</th>\n",
              "      <th>drugName_1</th>\n",
              "      <th>drugName_2</th>\n",
              "      <th>drugName_3</th>\n",
              "      <th>drugName_4</th>\n",
              "      <th>drugName_5</th>\n",
              "      <th>drugName_6</th>\n",
              "      <th>drugName_7</th>\n",
              "      <th>drugName_8</th>\n",
              "      <th>drugName_9</th>\n",
              "      <th>drugName_10</th>\n",
              "      <th>drugName_11</th>\n",
              "      <th>drugName_12</th>\n",
              "      <th>condition_0</th>\n",
              "      <th>condition_1</th>\n",
              "      <th>condition_2</th>\n",
              "      <th>condition_3</th>\n",
              "      <th>condition_4</th>\n",
              "      <th>condition_5</th>\n",
              "      <th>condition_6</th>\n",
              "      <th>condition_7</th>\n",
              "      <th>condition_8</th>\n",
              "      <th>condition_9</th>\n",
              "      <th>condition_10</th>\n",
              "      <th>rating</th>\n",
              "      <th>usefulCount</th>\n",
              "      <th>mark</th>\n",
              "    </tr>\n",
              "  </thead>\n",
              "  <tbody>\n",
              "    <tr>\n",
              "      <th>0</th>\n",
              "      <td>0</td>\n",
              "      <td>0</td>\n",
              "      <td>0</td>\n",
              "      <td>0</td>\n",
              "      <td>0</td>\n",
              "      <td>0</td>\n",
              "      <td>0</td>\n",
              "      <td>0</td>\n",
              "      <td>0</td>\n",
              "      <td>0</td>\n",
              "      <td>0</td>\n",
              "      <td>0</td>\n",
              "      <td>1</td>\n",
              "      <td>0</td>\n",
              "      <td>0</td>\n",
              "      <td>0</td>\n",
              "      <td>0</td>\n",
              "      <td>0</td>\n",
              "      <td>0</td>\n",
              "      <td>0</td>\n",
              "      <td>0</td>\n",
              "      <td>0</td>\n",
              "      <td>0</td>\n",
              "      <td>1</td>\n",
              "      <td>0</td>\n",
              "      <td>-0.030106</td>\n",
              "      <td>-0.548140</td>\n",
              "    </tr>\n",
              "    <tr>\n",
              "      <th>1</th>\n",
              "      <td>0</td>\n",
              "      <td>0</td>\n",
              "      <td>0</td>\n",
              "      <td>0</td>\n",
              "      <td>0</td>\n",
              "      <td>0</td>\n",
              "      <td>0</td>\n",
              "      <td>0</td>\n",
              "      <td>0</td>\n",
              "      <td>0</td>\n",
              "      <td>0</td>\n",
              "      <td>1</td>\n",
              "      <td>0</td>\n",
              "      <td>0</td>\n",
              "      <td>0</td>\n",
              "      <td>0</td>\n",
              "      <td>0</td>\n",
              "      <td>0</td>\n",
              "      <td>0</td>\n",
              "      <td>0</td>\n",
              "      <td>0</td>\n",
              "      <td>0</td>\n",
              "      <td>1</td>\n",
              "      <td>0</td>\n",
              "      <td>0</td>\n",
              "      <td>4.495665</td>\n",
              "      <td>2.922455</td>\n",
              "    </tr>\n",
              "    <tr>\n",
              "      <th>2</th>\n",
              "      <td>0</td>\n",
              "      <td>0</td>\n",
              "      <td>0</td>\n",
              "      <td>0</td>\n",
              "      <td>0</td>\n",
              "      <td>0</td>\n",
              "      <td>0</td>\n",
              "      <td>0</td>\n",
              "      <td>0</td>\n",
              "      <td>0</td>\n",
              "      <td>0</td>\n",
              "      <td>1</td>\n",
              "      <td>1</td>\n",
              "      <td>0</td>\n",
              "      <td>0</td>\n",
              "      <td>0</td>\n",
              "      <td>0</td>\n",
              "      <td>0</td>\n",
              "      <td>0</td>\n",
              "      <td>0</td>\n",
              "      <td>0</td>\n",
              "      <td>0</td>\n",
              "      <td>1</td>\n",
              "      <td>1</td>\n",
              "      <td>0</td>\n",
              "      <td>-0.304396</td>\n",
              "      <td>1.187157</td>\n",
              "    </tr>\n",
              "    <tr>\n",
              "      <th>3</th>\n",
              "      <td>0</td>\n",
              "      <td>0</td>\n",
              "      <td>0</td>\n",
              "      <td>0</td>\n",
              "      <td>0</td>\n",
              "      <td>0</td>\n",
              "      <td>0</td>\n",
              "      <td>0</td>\n",
              "      <td>0</td>\n",
              "      <td>0</td>\n",
              "      <td>1</td>\n",
              "      <td>0</td>\n",
              "      <td>0</td>\n",
              "      <td>0</td>\n",
              "      <td>0</td>\n",
              "      <td>0</td>\n",
              "      <td>0</td>\n",
              "      <td>0</td>\n",
              "      <td>0</td>\n",
              "      <td>0</td>\n",
              "      <td>0</td>\n",
              "      <td>0</td>\n",
              "      <td>1</td>\n",
              "      <td>1</td>\n",
              "      <td>0</td>\n",
              "      <td>-0.496398</td>\n",
              "      <td>-0.548140</td>\n",
              "    </tr>\n",
              "    <tr>\n",
              "      <th>4</th>\n",
              "      <td>0</td>\n",
              "      <td>0</td>\n",
              "      <td>0</td>\n",
              "      <td>0</td>\n",
              "      <td>0</td>\n",
              "      <td>0</td>\n",
              "      <td>0</td>\n",
              "      <td>0</td>\n",
              "      <td>0</td>\n",
              "      <td>0</td>\n",
              "      <td>1</td>\n",
              "      <td>0</td>\n",
              "      <td>1</td>\n",
              "      <td>0</td>\n",
              "      <td>0</td>\n",
              "      <td>0</td>\n",
              "      <td>0</td>\n",
              "      <td>0</td>\n",
              "      <td>0</td>\n",
              "      <td>0</td>\n",
              "      <td>0</td>\n",
              "      <td>1</td>\n",
              "      <td>0</td>\n",
              "      <td>0</td>\n",
              "      <td>0</td>\n",
              "      <td>0.244183</td>\n",
              "      <td>1.187157</td>\n",
              "    </tr>\n",
              "  </tbody>\n",
              "</table>\n",
              "</div>"
            ],
            "text/plain": [
              "   drugName_0  drugName_1  drugName_2  ...  rating  usefulCount      mark\n",
              "0           0           0           0  ...       0    -0.030106 -0.548140\n",
              "1           0           0           0  ...       0     4.495665  2.922455\n",
              "2           0           0           0  ...       0    -0.304396  1.187157\n",
              "3           0           0           0  ...       0    -0.496398 -0.548140\n",
              "4           0           0           0  ...       0     0.244183  1.187157\n",
              "\n",
              "[5 rows x 27 columns]"
            ]
          },
          "metadata": {
            "tags": []
          },
          "execution_count": 107
        }
      ]
    },
    {
      "cell_type": "code",
      "metadata": {
        "id": "UKnB84C9HYjL"
      },
      "source": [
        "column=nancy.columns\n",
        "colums=column[0:-3]"
      ],
      "execution_count": null,
      "outputs": []
    },
    {
      "cell_type": "code",
      "metadata": {
        "colab": {
          "base_uri": "https://localhost:8080/"
        },
        "id": "Wp_6V8dcH3La",
        "outputId": "be171cfc-9469-4a06-e9ea-d4f91b2c9865"
      },
      "source": [
        "colums=list(colums)+['usefulCount','mark']\n",
        "colums"
      ],
      "execution_count": null,
      "outputs": [
        {
          "output_type": "execute_result",
          "data": {
            "text/plain": [
              "['drugName_0',\n",
              " 'drugName_1',\n",
              " 'drugName_2',\n",
              " 'drugName_3',\n",
              " 'drugName_4',\n",
              " 'drugName_5',\n",
              " 'drugName_6',\n",
              " 'drugName_7',\n",
              " 'drugName_8',\n",
              " 'drugName_9',\n",
              " 'drugName_10',\n",
              " 'drugName_11',\n",
              " 'drugName_12',\n",
              " 'condition_0',\n",
              " 'condition_1',\n",
              " 'condition_2',\n",
              " 'condition_3',\n",
              " 'condition_4',\n",
              " 'condition_5',\n",
              " 'condition_6',\n",
              " 'condition_7',\n",
              " 'condition_8',\n",
              " 'condition_9',\n",
              " 'condition_10',\n",
              " 'usefulCount',\n",
              " 'mark']"
            ]
          },
          "metadata": {
            "tags": []
          },
          "execution_count": 116
        }
      ]
    },
    {
      "cell_type": "code",
      "metadata": {
        "colab": {
          "base_uri": "https://localhost:8080/"
        },
        "id": "a0veaLea8221",
        "outputId": "79b0ca67-4823-4a6a-bb07-7b972359fe0d"
      },
      "source": [
        "X_train, X_test, y_train, y_test = train_test_split(nancy[colums], nancy['rating'], random_state=42 ,\n",
        "                                                    test_size=0.20)\n",
        "\n",
        "print(X_train.shape)\n",
        "print(X_test.shape)\n",
        "print(y_train.shape)\n",
        "print(y_test.shape)"
      ],
      "execution_count": null,
      "outputs": [
        {
          "output_type": "stream",
          "text": [
            "(128318, 26)\n",
            "(32080, 26)\n",
            "(128318,)\n",
            "(32080,)\n"
          ],
          "name": "stdout"
        }
      ]
    },
    {
      "cell_type": "markdown",
      "metadata": {
        "id": "5UqaSt04wbtO"
      },
      "source": [
        "## Random Forest"
      ]
    },
    {
      "cell_type": "code",
      "metadata": {
        "colab": {
          "base_uri": "https://localhost:8080/"
        },
        "id": "4w4qH0U6nmdr",
        "outputId": "b8f09275-13aa-485f-c6d5-68178eb40a09"
      },
      "source": [
        "# import sklear.ensemble import RandomForestClassifier\n",
        "mod=RandomForestClassifier(n_estimators=100)\n",
        "mod.fit(X_train,y_train)"
      ],
      "execution_count": null,
      "outputs": [
        {
          "output_type": "execute_result",
          "data": {
            "text/plain": [
              "RandomForestClassifier(bootstrap=True, ccp_alpha=0.0, class_weight=None,\n",
              "                       criterion='gini', max_depth=None, max_features='auto',\n",
              "                       max_leaf_nodes=None, max_samples=None,\n",
              "                       min_impurity_decrease=0.0, min_impurity_split=None,\n",
              "                       min_samples_leaf=1, min_samples_split=2,\n",
              "                       min_weight_fraction_leaf=0.0, n_estimators=100,\n",
              "                       n_jobs=None, oob_score=False, random_state=None,\n",
              "                       verbose=0, warm_start=False)"
            ]
          },
          "metadata": {
            "tags": []
          },
          "execution_count": 179
        }
      ]
    },
    {
      "cell_type": "code",
      "metadata": {
        "id": "9I3kJcrZnutN"
      },
      "source": [
        "y_pred1=mod.predict(X_test)\n"
      ],
      "execution_count": null,
      "outputs": []
    },
    {
      "cell_type": "code",
      "metadata": {
        "colab": {
          "base_uri": "https://localhost:8080/"
        },
        "id": "kvN36AiAFFo-",
        "outputId": "5cae8104-a167-477a-8211-a7823a6d06a8"
      },
      "source": [
        "print(classification_report(y_test, y_pred1))"
      ],
      "execution_count": null,
      "outputs": [
        {
          "output_type": "stream",
          "text": [
            "              precision    recall  f1-score   support\n",
            "\n",
            "           0       0.44      0.32      0.37      7870\n",
            "           1       0.19      0.08      0.12      4795\n",
            "           2       0.71      0.72      0.72     19415\n",
            "\n",
            "   micro avg       0.61      0.53      0.57     32080\n",
            "   macro avg       0.45      0.37      0.40     32080\n",
            "weighted avg       0.57      0.53      0.54     32080\n",
            " samples avg       0.53      0.53      0.53     32080\n",
            "\n"
          ],
          "name": "stdout"
        }
      ]
    },
    {
      "cell_type": "markdown",
      "metadata": {
        "id": "EX45TOy_gpg5"
      },
      "source": [
        "**KNN Algorithm**\n"
      ]
    },
    {
      "cell_type": "code",
      "metadata": {
        "colab": {
          "base_uri": "https://localhost:8080/"
        },
        "id": "BRlAJ3T0gx1w",
        "outputId": "ecd4a737-73cd-4d96-a98a-d0868c2177d1"
      },
      "source": [
        "classifier = KNeighborsClassifier(n_neighbors=3)\n",
        "classifier.fit(X_train, y_train)"
      ],
      "execution_count": null,
      "outputs": [
        {
          "output_type": "execute_result",
          "data": {
            "text/plain": [
              "KNeighborsClassifier(algorithm='auto', leaf_size=30, metric='minkowski',\n",
              "                     metric_params=None, n_jobs=None, n_neighbors=3, p=2,\n",
              "                     weights='uniform')"
            ]
          },
          "metadata": {
            "tags": []
          },
          "execution_count": 118
        }
      ]
    },
    {
      "cell_type": "markdown",
      "metadata": {
        "id": "W_LtkC3tizg6"
      },
      "source": [
        "**We predict our test data**"
      ]
    },
    {
      "cell_type": "code",
      "metadata": {
        "id": "S_kbPisvgzEM"
      },
      "source": [
        "y_pred = classifier.predict(X_test)"
      ],
      "execution_count": null,
      "outputs": []
    },
    {
      "cell_type": "markdown",
      "metadata": {
        "id": "i8gtA5ZjjdMy"
      },
      "source": [
        "**Evaluating the algorithm**"
      ]
    },
    {
      "cell_type": "code",
      "metadata": {
        "colab": {
          "base_uri": "https://localhost:8080/"
        },
        "id": "-cESKjgujjZg",
        "outputId": "ca3df2de-cedd-4708-b120-cfecb0fc831f"
      },
      "source": [
        "print(confusion_matrix(y_test, y_pred))\n",
        "print(classification_report(y_test, y_pred))"
      ],
      "execution_count": null,
      "outputs": [
        {
          "output_type": "stream",
          "text": [
            "[[ 3929   640  3301]\n",
            " [ 1847   414  2534]\n",
            " [ 4392  1011 14012]]\n",
            "              precision    recall  f1-score   support\n",
            "\n",
            "           0       0.39      0.50      0.44      7870\n",
            "           1       0.20      0.09      0.12      4795\n",
            "           2       0.71      0.72      0.71     19415\n",
            "\n",
            "    accuracy                           0.57     32080\n",
            "   macro avg       0.43      0.44      0.42     32080\n",
            "weighted avg       0.55      0.57      0.56     32080\n",
            "\n"
          ],
          "name": "stdout"
        }
      ]
    },
    {
      "cell_type": "markdown",
      "metadata": {
        "id": "Kkg5mgLdly3o"
      },
      "source": [
        "## Building Model by deep learning\n"
      ]
    },
    {
      "cell_type": "markdown",
      "metadata": {
        "id": "NoSPVNYy6904"
      },
      "source": [
        "Before we build our model we have to know our input dimension of the data.The optimizers,loss functions,activation functions are all important in the model building.We are using the softmax function for the output layer because of our multi-class classification problem.The optimizer is used to determine the error or loss between the computed and desired output.The loss function is used to compute the error  and it is reduced by the optimizer."
      ]
    },
    {
      "cell_type": "code",
      "metadata": {
        "colab": {
          "base_uri": "https://localhost:8080/"
        },
        "id": "GTs_PY3ElZ4B",
        "outputId": "e7c6f872-c10c-46c9-b73f-beab35f1f641"
      },
      "source": [
        "pip install keras"
      ],
      "execution_count": null,
      "outputs": [
        {
          "output_type": "stream",
          "text": [
            "Requirement already satisfied: keras in /usr/local/lib/python3.7/dist-packages (2.4.3)\n",
            "Requirement already satisfied: numpy>=1.9.1 in /usr/local/lib/python3.7/dist-packages (from keras) (1.19.5)\n",
            "Requirement already satisfied: pyyaml in /usr/local/lib/python3.7/dist-packages (from keras) (3.13)\n",
            "Requirement already satisfied: h5py in /usr/local/lib/python3.7/dist-packages (from keras) (2.10.0)\n",
            "Requirement already satisfied: scipy>=0.14 in /usr/local/lib/python3.7/dist-packages (from keras) (1.4.1)\n",
            "Requirement already satisfied: six in /usr/local/lib/python3.7/dist-packages (from h5py->keras) (1.15.0)\n"
          ],
          "name": "stdout"
        }
      ]
    },
    {
      "cell_type": "code",
      "metadata": {
        "id": "tEp6hFHsm5RQ"
      },
      "source": [
        "try:\n",
        "  # %tensorflow_version only exists in Colab.\n",
        "  %tensorflow_version 2.x\n",
        "except Exception:\n",
        "  pass\n"
      ],
      "execution_count": null,
      "outputs": []
    },
    {
      "cell_type": "code",
      "metadata": {
        "colab": {
          "base_uri": "https://localhost:8080/"
        },
        "id": "WvrkF8Gcm6r9",
        "outputId": "93e6e633-898c-4a05-e289-eacc8889b755"
      },
      "source": [
        "from __future__ import absolute_import, division, print_function, unicode_literals\n",
        "# TensorFlow and tf.keras\n",
        "import tensorflow as tf\n",
        "from tensorflow import keras\n",
        " \n",
        "# Helper libraries\n",
        "import numpy as np\n",
        "import matplotlib.pyplot as plt\n",
        " \n",
        "print(tf.__version__)"
      ],
      "execution_count": null,
      "outputs": [
        {
          "output_type": "stream",
          "text": [
            "2.4.1\n"
          ],
          "name": "stdout"
        }
      ]
    },
    {
      "cell_type": "code",
      "metadata": {
        "id": "osn1vU5G-MWh"
      },
      "source": [
        "y_train=keras.utils.to_categorical(y_train,num_classes=3)\n",
        "y_test=keras.utils.to_categorical(y_test,num_classes=3)"
      ],
      "execution_count": null,
      "outputs": []
    },
    {
      "cell_type": "code",
      "metadata": {
        "id": "L7v4zF9ZmNue"
      },
      "source": [
        "input_dim = X_train.shape[1]  # Number of features\n",
        "from keras import models\n",
        "from keras import layers\n",
        "model = models.Sequential()\n",
        "model.add(layers.Dense(64, activation='relu', input_dim=X_train.shape[1]))\n",
        "model.add(layers.Dense(64, activation='relu'))\n",
        "model.add(layers.Dense(64, activation='relu'))\n",
        "model.add(layers.Dense(64, activation='relu'))\n",
        "model.add(layers.Dense(64, activation='relu'))\n",
        "model.add(layers.Dense(64, activation='relu'))\n",
        "model.add(layers.Dense(24, activation='relu'))\n",
        "model.add(layers.Dense(3, activation='softmax'))"
      ],
      "execution_count": null,
      "outputs": []
    },
    {
      "cell_type": "code",
      "metadata": {
        "colab": {
          "base_uri": "https://localhost:8080/"
        },
        "id": "PMQX5h-Hjhy6",
        "outputId": "a3ff1e45-4a9d-4383-d0fe-dfb667be633e"
      },
      "source": [
        "model.compile(optimizer='adam',loss='categorical_crossentropy',metrics=['accuracy'])\n",
        "model.summary()\n"
      ],
      "execution_count": null,
      "outputs": [
        {
          "output_type": "stream",
          "text": [
            "Model: \"sequential_18\"\n",
            "_________________________________________________________________\n",
            "Layer (type)                 Output Shape              Param #   \n",
            "=================================================================\n",
            "dense_62 (Dense)             (None, 64)                1728      \n",
            "_________________________________________________________________\n",
            "dense_63 (Dense)             (None, 64)                4160      \n",
            "_________________________________________________________________\n",
            "dense_64 (Dense)             (None, 64)                4160      \n",
            "_________________________________________________________________\n",
            "dense_65 (Dense)             (None, 64)                4160      \n",
            "_________________________________________________________________\n",
            "dense_66 (Dense)             (None, 64)                4160      \n",
            "_________________________________________________________________\n",
            "dense_67 (Dense)             (None, 64)                4160      \n",
            "_________________________________________________________________\n",
            "dense_68 (Dense)             (None, 24)                1560      \n",
            "_________________________________________________________________\n",
            "dense_69 (Dense)             (None, 3)                 75        \n",
            "=================================================================\n",
            "Total params: 24,163\n",
            "Trainable params: 24,163\n",
            "Non-trainable params: 0\n",
            "_________________________________________________________________\n"
          ],
          "name": "stdout"
        }
      ]
    },
    {
      "cell_type": "markdown",
      "metadata": {
        "id": "g_7uNuLMG7uf"
      },
      "source": [
        "**Training model**\n",
        "\n",
        "Now the model is ready to be trained.We start training the model at this stage.\"model.fit()\" simplify means the training process of the model has began."
      ]
    },
    {
      "cell_type": "code",
      "metadata": {
        "colab": {
          "base_uri": "https://localhost:8080/"
        },
        "id": "34bb1IbZoP2n",
        "outputId": "fe2d031d-62d3-43a1-e5d7-6e6e63a9abb7"
      },
      "source": [
        "history = model.fit(X_train,y_train,epochs=20,batch_size=100,validation_split = 0.2)"
      ],
      "execution_count": null,
      "outputs": [
        {
          "output_type": "stream",
          "text": [
            "Epoch 1/20\n",
            "1027/1027 [==============================] - 4s 3ms/step - loss: 0.8957 - accuracy: 0.6058 - val_loss: 0.8623 - val_accuracy: 0.6257\n",
            "Epoch 2/20\n",
            "1027/1027 [==============================] - 3s 3ms/step - loss: 0.8670 - accuracy: 0.6181 - val_loss: 0.8473 - val_accuracy: 0.6294\n",
            "Epoch 3/20\n",
            "1027/1027 [==============================] - 3s 3ms/step - loss: 0.8544 - accuracy: 0.6235 - val_loss: 0.8420 - val_accuracy: 0.6339\n",
            "Epoch 4/20\n",
            "1027/1027 [==============================] - 3s 3ms/step - loss: 0.8478 - accuracy: 0.6285 - val_loss: 0.8423 - val_accuracy: 0.6317\n",
            "Epoch 5/20\n",
            "1027/1027 [==============================] - 3s 3ms/step - loss: 0.8359 - accuracy: 0.6357 - val_loss: 0.8371 - val_accuracy: 0.6326\n",
            "Epoch 6/20\n",
            "1027/1027 [==============================] - 3s 3ms/step - loss: 0.8330 - accuracy: 0.6363 - val_loss: 0.8364 - val_accuracy: 0.6335\n",
            "Epoch 7/20\n",
            "1027/1027 [==============================] - 3s 3ms/step - loss: 0.8311 - accuracy: 0.6346 - val_loss: 0.8358 - val_accuracy: 0.6349\n",
            "Epoch 8/20\n",
            "1027/1027 [==============================] - 3s 3ms/step - loss: 0.8237 - accuracy: 0.6396 - val_loss: 0.8335 - val_accuracy: 0.6338\n",
            "Epoch 9/20\n",
            "1027/1027 [==============================] - 3s 3ms/step - loss: 0.8220 - accuracy: 0.6408 - val_loss: 0.8323 - val_accuracy: 0.6357\n",
            "Epoch 10/20\n",
            "1027/1027 [==============================] - 3s 3ms/step - loss: 0.8184 - accuracy: 0.6433 - val_loss: 0.8367 - val_accuracy: 0.6345\n",
            "Epoch 11/20\n",
            "1027/1027 [==============================] - 3s 3ms/step - loss: 0.8210 - accuracy: 0.6405 - val_loss: 0.8332 - val_accuracy: 0.6370\n",
            "Epoch 12/20\n",
            "1027/1027 [==============================] - 3s 3ms/step - loss: 0.8201 - accuracy: 0.6410 - val_loss: 0.8340 - val_accuracy: 0.6336\n",
            "Epoch 13/20\n",
            "1027/1027 [==============================] - 3s 3ms/step - loss: 0.8141 - accuracy: 0.6453 - val_loss: 0.8357 - val_accuracy: 0.6386\n",
            "Epoch 14/20\n",
            "1027/1027 [==============================] - 3s 3ms/step - loss: 0.8134 - accuracy: 0.6437 - val_loss: 0.8353 - val_accuracy: 0.6368\n",
            "Epoch 15/20\n",
            "1027/1027 [==============================] - 3s 3ms/step - loss: 0.8082 - accuracy: 0.6440 - val_loss: 0.8388 - val_accuracy: 0.6337\n",
            "Epoch 16/20\n",
            "1027/1027 [==============================] - 3s 3ms/step - loss: 0.8099 - accuracy: 0.6451 - val_loss: 0.8314 - val_accuracy: 0.6389\n",
            "Epoch 17/20\n",
            "1027/1027 [==============================] - 3s 3ms/step - loss: 0.8052 - accuracy: 0.6487 - val_loss: 0.8372 - val_accuracy: 0.6376\n",
            "Epoch 18/20\n",
            "1027/1027 [==============================] - 3s 3ms/step - loss: 0.7997 - accuracy: 0.6489 - val_loss: 0.8372 - val_accuracy: 0.6373\n",
            "Epoch 19/20\n",
            "1027/1027 [==============================] - 3s 3ms/step - loss: 0.8039 - accuracy: 0.6471 - val_loss: 0.8396 - val_accuracy: 0.6379\n",
            "Epoch 20/20\n",
            "1027/1027 [==============================] - 3s 3ms/step - loss: 0.7986 - accuracy: 0.6504 - val_loss: 0.8308 - val_accuracy: 0.6384\n"
          ],
          "name": "stdout"
        }
      ]
    },
    {
      "cell_type": "markdown",
      "metadata": {
        "id": "9DeLR0H7r-H4"
      },
      "source": [
        "Metrics like the accuracy used to monitor the training and testing steps."
      ]
    },
    {
      "cell_type": "code",
      "metadata": {
        "colab": {
          "base_uri": "https://localhost:8080/"
        },
        "id": "pfm7daFRrWHI",
        "outputId": "ca99c9ef-0c3e-4acf-fff9-c61c3a94c83a"
      },
      "source": [
        "score=model.evaluate(X_test,y_test,verbose=0)\n",
        "print('Test score:',score[0])\n",
        "print('Test accuracy:',score[1])"
      ],
      "execution_count": null,
      "outputs": [
        {
          "output_type": "stream",
          "text": [
            "Test score: 0.8358822464942932\n",
            "Test accuracy: 0.6333853006362915\n"
          ],
          "name": "stdout"
        }
      ]
    },
    {
      "cell_type": "markdown",
      "metadata": {
        "id": "nsgc2oGlHGQh"
      },
      "source": [
        "**Evaluating the test data with the model**\n",
        "\n",
        "Here, we are checking how the model is performing on the test data."
      ]
    },
    {
      "cell_type": "code",
      "metadata": {
        "id": "SU3VXAYTUsSK"
      },
      "source": [
        "#from sklearn.metrics import accuracy_score(y_test,y_pred)"
      ],
      "execution_count": null,
      "outputs": []
    },
    {
      "cell_type": "code",
      "metadata": {
        "colab": {
          "base_uri": "https://localhost:8080/"
        },
        "id": "fux_lqBH_M5f",
        "outputId": "01ad488a-ea0f-4131-e94b-8f84e7b58faf"
      },
      "source": [
        "y_pred = model.predict(X_test)\n",
        "y_test_class = np.argmax(y_test, axis=1)\n",
        "y_pred_class = np.argmax(y_pred, axis=1)\n",
        "\n",
        "print(classification_report(y_test_class, y_pred_class))\n",
        "print(confusion_matrix(y_test_class, y_pred_class))"
      ],
      "execution_count": null,
      "outputs": [
        {
          "output_type": "stream",
          "text": [
            "              precision    recall  f1-score   support\n",
            "\n",
            "           0       0.46      0.44      0.45      7870\n",
            "           1       0.11      0.00      0.00      4795\n",
            "           2       0.68      0.87      0.77     19415\n",
            "\n",
            "    accuracy                           0.63     32080\n",
            "   macro avg       0.42      0.44      0.41     32080\n",
            "weighted avg       0.55      0.63      0.57     32080\n",
            "\n",
            "[[ 3470     5  4395]\n",
            " [ 1431     1  3363]\n",
            " [ 2564     3 16848]]\n"
          ],
          "name": "stdout"
        }
      ]
    },
    {
      "cell_type": "markdown",
      "metadata": {
        "id": "6gLVwmBSHWO8"
      },
      "source": [
        "##Visualizing the validation and training data"
      ]
    },
    {
      "cell_type": "code",
      "metadata": {
        "id": "jyGpRod0D6RM"
      },
      "source": [
        "plt.style.use('ggplot')\n",
        "\n",
        "def plot_history(history):\n",
        "    acc = history.history['accuracy']\n",
        "    val_acc = history.history['val_accuracy']\n",
        "    loss = history.history['loss']\n",
        "    val_loss = history.history['val_loss']\n",
        "    x = range(1, len(acc) + 1)\n",
        "\n",
        "    plt.figure(figsize=(12, 5))\n",
        "    plt.subplot(1, 2, 1)\n",
        "    plt.plot(x, acc, 'b', label='Training accuracy')\n",
        "    plt.plot(x, val_acc, 'r', label='Validation accuracy')\n",
        "    plt.title('Training and validation accuracy')\n",
        "    plt.legend()\n",
        "    plt.subplot(1, 2, 2)\n",
        "    plt.plot(x, loss, 'b', label='Training loss')\n",
        "    plt.plot(x, val_loss, 'r', label='Validation loss')\n",
        "    plt.title('Training and validation loss')\n",
        "    plt.legend()"
      ],
      "execution_count": null,
      "outputs": []
    },
    {
      "cell_type": "code",
      "metadata": {
        "colab": {
          "base_uri": "https://localhost:8080/",
          "height": 337
        },
        "id": "QdHZjJDJEBrh",
        "outputId": "11259d97-57a6-4375-eb12-52c9ddcff7c2"
      },
      "source": [
        "plot_history(history)"
      ],
      "execution_count": null,
      "outputs": [
        {
          "output_type": "display_data",
          "data": {
            "image/png": "[encoded data removed]",
            "text/plain": [
              "<Figure size 864x360 with 2 Axes>"
            ]
          },
          "metadata": {
            "tags": []
          }
        }
      ]
    }
  ]
}